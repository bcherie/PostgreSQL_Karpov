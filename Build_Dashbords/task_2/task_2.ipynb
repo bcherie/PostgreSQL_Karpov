{
 "cells": [
  {
   "cell_type": "markdown",
   "id": "e42eab50-6ab3-4bf6-bf53-af840e90cf4d",
   "metadata": {},
   "source": [
    "# **Задача 2.**"
   ]
  },
  {
   "cell_type": "markdown",
   "id": "65f691d1-5e58-4325-81ed-67f868800319",
   "metadata": {},
   "source": [
    "Анализируя динамику показателей из предыдущего задания, вы могли заметить, что сравнивать абсолютные значения не очень удобно. Давайте посчитаем динамику показателей в относительных величинах."
   ]
  },
  {
   "cell_type": "markdown",
   "id": "6eaf23e0-6282-4b74-b457-dc384167ffc0",
   "metadata": {},
   "source": [
    "## **Задание:**"
   ]
  },
  {
   "cell_type": "markdown",
   "id": "8485e667-ba46-4509-84a5-09bc07b29a26",
   "metadata": {},
   "source": [
    "Дополните запрос из предыдущего задания и теперь для каждого дня, представленного в таблицах user_actions и courier_actions, дополнительно рассчитайте следующие показатели:\n",
    "\n",
    "*\tПрирост числа новых пользователей.\n",
    "*\tПрирост числа новых курьеров.\n",
    "*\tПрирост общего числа пользователей.\n",
    "*\tПрирост общего числа курьеров.\n",
    "Показатели, рассчитанные на предыдущем шаге, также включите в результирующую таблицу.\n",
    "\n",
    "Колонки с новыми показателями назовите соответственно new_users_change, new_couriers_change, total_users_growth, total_couriers_growth. Колонку с датами назовите date.\n",
    "\n",
    "Все показатели прироста считайте в процентах относительно значений в предыдущий день. При расчёте показателей округляйте значения до двух знаков после запятой.\n",
    "Результирующая таблица должна быть отсортирована по возрастанию даты.\n",
    "\n",
    "Поля в результирующей таблице: \n",
    "date, new_users, new_couriers, total_users, total_couriers, new_users_change, new_couriers_change, total_users_growth, total_couriers_growth\n",
    "\n",
    "Пояснение:\n",
    "Не забывайте при делении заранее приводить значения к нужному типу данных. Пропущенные значения приростов для самой первой даты не заполняйте — просто оставьте поля в этой строке пустыми."
   ]
  },
  {
   "cell_type": "code",
   "execution_count": null,
   "id": "b9b4f9f1-6c8a-41b2-82b2-b7ad60fed642",
   "metadata": {},
   "outputs": [],
   "source": [
    "SELECT\n",
    "    date,\n",
    "    new_users,\n",
    "    total_users,\n",
    "    new_couriers,\n",
    "    (sum(new_couriers) OVER(ORDER BY date))::int as total_couriers,\n",
    "    new_users_change,\n",
    "    new_couriers_change,\n",
    "    round(((total_users - lag(total_users) OVER(ORDER BY date))::decimal / lag(total_users) OVER(ORDER BY date)) * 100, 2) as total_users_growth,\n",
    "    round(((total_couriers - lag(total_couriers) OVER(ORDER BY date))::decimal / lag(total_couriers) OVER(ORDER BY date)) * 100, 2) as total_couriers_growth\n",
    "FROM    \n",
    "(SELECT u.t as date,\n",
    "       new_users,\n",
    "       (sum(new_users) OVER(ORDER BY u.t))::int as total_users,\n",
    "       new_couriers,\n",
    "       (sum(new_couriers) OVER(ORDER BY u.t))::int as total_couriers,\n",
    "       round((((new_users - (lag(new_users) OVER(ORDER BY u.t))::int) / lag(new_users) OVER(ORDER BY u.t)::decimal)) * 100, 2)  as new_users_change,\n",
    "       round((((new_couriers - (lag(new_couriers) OVER(ORDER BY u.t))::int) / lag(new_couriers) OVER(ORDER BY u.t)::decimal)) * 100, 2) as new_couriers_change\n",
    "FROM   (SELECT time::date as t,\n",
    "               count(distinct user_id) filter (WHERE rank = 1) as new_users\n",
    "        FROM   (SELECT time::date,\n",
    "                       user_id,\n",
    "                       rank() OVER(PARTITION BY user_id\n",
    "                                   ORDER BY time::date)\n",
    "                FROM   user_actions) sub\n",
    "        GROUP BY 1) u join (SELECT time::date as t,\n",
    "                           count(distinct courier_id) filter (WHERE rank = 1) as new_couriers\n",
    "                    FROM   (SELECT time::date,\n",
    "                                   courier_id,\n",
    "                                   rank() OVER(PARTITION BY courier_id\n",
    "                                               ORDER BY time::date)\n",
    "                            FROM   courier_actions) sub1\n",
    "                    GROUP BY 1) c\n",
    "        ON u.t = c.t) s"
   ]
  },
  {
   "cell_type": "markdown",
   "id": "ec712666-b8c7-4125-8165-0208734e3570",
   "metadata": {},
   "source": [
    "![test](task_2_1.png)"
   ]
  },
  {
   "cell_type": "markdown",
   "id": "0f9e4335-a3a8-4832-80c5-c35af3a6e132",
   "metadata": {},
   "source": [
    "![test](task_2_2.png)"
   ]
  },
  {
   "cell_type": "markdown",
   "id": "239728bb-a762-4791-9664-87351a648688",
   "metadata": {},
   "source": []
  }
 ],
 "metadata": {
  "kernelspec": {
   "display_name": "Python 3 (ipykernel)",
   "language": "python",
   "name": "python3"
  },
  "language_info": {
   "codemirror_mode": {
    "name": "ipython",
    "version": 3
   },
   "file_extension": ".py",
   "mimetype": "text/x-python",
   "name": "python",
   "nbconvert_exporter": "python",
   "pygments_lexer": "ipython3",
   "version": "3.12.3"
  }
 },
 "nbformat": 4,
 "nbformat_minor": 5
}
